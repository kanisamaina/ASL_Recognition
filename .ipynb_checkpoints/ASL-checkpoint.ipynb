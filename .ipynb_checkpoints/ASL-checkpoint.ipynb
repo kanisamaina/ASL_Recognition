{
 "cells": [
  {
   "cell_type": "code",
   "execution_count": null,
   "metadata": {},
   "outputs": [],
   "source": [
    "import os\n",
    "import numpy as np\n",
    "import matplotlib.pyplot as plt\n",
    "import cv2\n",
    "\n",
    "import warnings\n",
    "warnings.filterwarnings('ignore')"
   ]
  },
  {
   "cell_type": "code",
   "execution_count": null,
   "metadata": {},
   "outputs": [],
   "source": [
    "A_images = []\n",
    "B_images = []\n",
    "C_images = []\n",
    "for folder in os.listdir(\"/Users/KANISHKA/Technocolabs_DataScience_Internship/Final Project/cvdata\"):\n",
    "    for image in os.listdir(f\"/Users/KANISHKA/Technocolabs_DataScience_Internship/Final Project/cvdata/{folder}\"):\n",
    "        if folder == 'A':\n",
    "            img = cv2.imread(f\"/Users/KANISHKA/Technocolabs_DataScience_Internship/Final Project/cvdata/{folder}/{image}\")\n",
    "            img = cv2.cvtColor(img, cv2.COLOR_BGR2GRAY)\n",
    "            img = cv2.resize(img, (100,100))\n",
    "            A_images.append(img)\n",
    "        elif folder == 'B':\n",
    "            img = cv2.imread(f\"/Users/KANISHKA/Technocolabs_DataScience_Internship/Final Project/cvdata/{folder}/{image}\")\n",
    "            img = cv2.cvtColor(img, cv2.COLOR_BGR2GRAY)\n",
    "            img = cv2.resize(img, (100,100))\n",
    "            B_images.append(img)\n",
    "        else:\n",
    "            img = cv2.imread(f\"/Users/KANISHKA/Technocolabs_DataScience_Internship/Final Project/cvdata/{folder}/{image}\")\n",
    "            img = cv2.cvtColor(img, cv2.COLOR_BGR2GRAY)\n",
    "            img = cv2.resize(img, (100,100))\n",
    "            C_images.append(img)"
   ]
  },
  {
   "cell_type": "code",
   "execution_count": null,
   "metadata": {},
   "outputs": [],
   "source": [
    "A_images = np.asarray(A_images)\n",
    "B_images = np.asarray(B_images)\n",
    "C_images = np.asarray(C_images)"
   ]
  },
  {
   "cell_type": "code",
   "execution_count": null,
   "metadata": {},
   "outputs": [],
   "source": [
    "A_images.shape, B_images.shape, C_images.shape"
   ]
  },
  {
   "cell_type": "code",
   "execution_count": null,
   "metadata": {},
   "outputs": [],
   "source": [
    "A_images = A_images.reshape((1000,100,100,1))\n",
    "B_images = B_images.reshape((1000,100,100,1))\n",
    "C_images = C_images.reshape((1000,100,100,1))\n",
    "A_images.shape, B_images.shape, C_images.shape"
   ]
  },
  {
   "cell_type": "code",
   "execution_count": null,
   "metadata": {},
   "outputs": [],
   "source": [
    "a_labels = np.asarray([0]*len(A_images))\n",
    "b_labels = np.asarray([1]*len(B_images))\n",
    "c_labels = np.asarray([2]*len(C_images))\n",
    "a_labels.shape, c_labels.shape, c_labels.shape"
   ]
  },
  {
   "cell_type": "code",
   "execution_count": null,
   "metadata": {},
   "outputs": [],
   "source": [
    "images = np.vstack((A_images, B_images, C_images))\n",
    "labels = np.hstack((a_labels, b_labels, c_labels))"
   ]
  },
  {
   "cell_type": "code",
   "execution_count": null,
   "metadata": {},
   "outputs": [],
   "source": [
    "images.shape, labels.shape"
   ]
  },
  {
   "cell_type": "code",
   "execution_count": null,
   "metadata": {},
   "outputs": [],
   "source": [
    "plt.figure(figsize=(10,10))\n",
    "plt.subplot(1,3,1)\n",
    "plt.imshow(images[0].reshape((100,100)), cmap=\"gray\")\n",
    "plt.subplot(1,3,2)\n",
    "plt.imshow(images[1001].reshape((100,100)), cmap=\"gray\")\n",
    "plt.subplot(1,3,3)\n",
    "plt.imshow(images[2001].reshape((100,100)), cmap=\"gray\")\n",
    "plt.show()"
   ]
  },
  {
   "cell_type": "code",
   "execution_count": null,
   "metadata": {},
   "outputs": [],
   "source": [
    "from sklearn.utils import shuffle\n",
    "images, labels = shuffle(images, labels)"
   ]
  },
  {
   "cell_type": "code",
   "execution_count": null,
   "metadata": {},
   "outputs": [],
   "source": [
    "print(labels[:25])\n",
    "plt.figure(figsize=(12,12))\n",
    "for i in range(25):\n",
    "  plt.subplot(5,5,i+1)\n",
    "  plt.imshow(images[i].reshape((100,100)), cmap = \"gray\")\n",
    "plt.show()"
   ]
  },
  {
   "cell_type": "code",
   "execution_count": null,
   "metadata": {},
   "outputs": [],
   "source": [
    "from keras.utils import to_categorical\n",
    "labels = to_categorical(labels, 3)"
   ]
  },
  {
   "cell_type": "code",
   "execution_count": null,
   "metadata": {},
   "outputs": [],
   "source": [
    "labels.shape"
   ]
  },
  {
   "cell_type": "code",
   "execution_count": null,
   "metadata": {},
   "outputs": [],
   "source": [
    "images = images / 255.0"
   ]
  },
  {
   "cell_type": "code",
   "execution_count": null,
   "metadata": {},
   "outputs": [],
   "source": [
    "from sklearn.model_selection import train_test_split\n",
    "X_train, X_test, y_train, y_test = train_test_split(images, labels, test_size = 0.2, random_state=42)\n",
    "X_train.shape, y_train.shape, X_test.shape, y_test.shape"
   ]
  },
  {
   "cell_type": "code",
   "execution_count": null,
   "metadata": {},
   "outputs": [],
   "source": [
    "from keras.models import Sequential\n",
    "from keras.layers import Conv2D, Dense, Flatten, MaxPool2D"
   ]
  },
  {
   "cell_type": "code",
   "execution_count": null,
   "metadata": {},
   "outputs": [],
   "source": [
    "model = Sequential()\n",
    "\n",
    "model.add(Conv2D(128, (3,3), activation='relu', input_shape = X_train.shape[1:]))\n",
    "model.add(MaxPool2D())\n",
    "model.add(Conv2D(256, (3,3), activation='relu'))\n",
    "model.add(MaxPool2D())\n",
    "model.add(Conv2D(512, (3,3), activation='relu'))\n",
    "model.add(MaxPool2D())\n",
    "model.add(Flatten())\n",
    "model.add(Dense(128, activation=\"relu\"))\n",
    "model.add(Dense(3, activation='softmax'))"
   ]
  },
  {
   "cell_type": "code",
   "execution_count": null,
   "metadata": {},
   "outputs": [],
   "source": [
    "model.compile(loss='categorical_crossentropy', optimizer='adam', metrics=['accuracy'])"
   ]
  },
  {
   "cell_type": "code",
   "execution_count": null,
   "metadata": {},
   "outputs": [],
   "source": [
    "history = model.fit(X_train, y_train, batch_size=64, validation_data=(X_test, y_test), epochs=5)"
   ]
  },
  {
   "cell_type": "code",
   "execution_count": null,
   "metadata": {},
   "outputs": [],
   "source": [
    "print(np.argmax(y_test[595]))\n",
    "print(np.argmax(model.predict(X_test[595].reshape((1,100,100,1)))))"
   ]
  },
  {
   "cell_type": "code",
   "execution_count": null,
   "metadata": {},
   "outputs": [],
   "source": [
    "model_json = model.to_json()\n",
    "with open(\"3_alphabet_ASL_Model.json\", \"w\") as json_file:\n",
    "    json_file.write(model_json)"
   ]
  },
  {
   "cell_type": "code",
   "execution_count": null,
   "metadata": {},
   "outputs": [],
   "source": [
    "model.save_weights(\"3_alphabet_ASL_Model_weights.h5\")"
   ]
  }
 ],
 "metadata": {
  "kernelspec": {
   "display_name": "Python 3",
   "language": "python",
   "name": "python3"
  },
  "language_info": {
   "codemirror_mode": {
    "name": "ipython",
    "version": 3
   },
   "file_extension": ".py",
   "mimetype": "text/x-python",
   "name": "python",
   "nbconvert_exporter": "python",
   "pygments_lexer": "ipython3",
   "version": "3.7.7"
  }
 },
 "nbformat": 4,
 "nbformat_minor": 4
}
